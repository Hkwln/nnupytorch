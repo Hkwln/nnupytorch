{
 "cells": [
  {
   "cell_type": "markdown",
   "id": "f03c1d30",
   "metadata": {},
   "source": [
    "# hebbian rule:\n",
    "updates weight according to theuir input and output activations"
   ]
  },
  {
   "cell_type": "code",
   "execution_count": null,
   "id": "aaadebfd",
   "metadata": {},
   "outputs": [],
   "source": [
    "import torch\n",
    "\n",
    "input_size = 3\n",
    "output_size = 3\n",
    "learning_rate = 0.01\n",
    "input_vector = torch.randn(input_size)\n",
    "output_vector = torch.randn(output_size)\n",
    "weights = torch.randn(input_size, output_size)\n",
    "delta_weights = learning_rate *torch.outer(input_vector, output_vector) \n",
    "weights += delta_weights\n",
    "\n",
    "print(\"updated Wights:\",weights)\n",
    "\n"
   ]
  }
 ],
 "metadata": {
  "kernelspec": {
   "display_name": "pytorch",
   "language": "python",
   "name": "python3"
  },
  "language_info": {
   "name": "python",
   "version": "3.9.23"
  }
 },
 "nbformat": 4,
 "nbformat_minor": 5
}
