{
 "cells": [
  {
   "cell_type": "markdown",
   "id": "f03c1d30",
   "metadata": {},
   "source": [
    "# hebbian rule:\n",
    "updates weight according to theuir input and output activations"
   ]
  },
  {
   "cell_type": "code",
   "execution_count": 1,
   "id": "aaadebfd",
   "metadata": {},
   "outputs": [
    {
     "name": "stdout",
     "output_type": "stream",
     "text": [
      "updated Wights: tensor([[-0.2817,  0.1223,  1.5809],\n",
      "        [ 0.0400, -0.7612, -0.1854],\n",
      "        [-0.6704, -0.6770, -0.5369]])\n"
     ]
    }
   ],
   "source": [
    "import torch\n",
    "\n",
    "input_size = 3\n",
    "output_size = 3\n",
    "learning_rate = 0.01\n",
    "input_vector = torch.randn(input_size)\n",
    "output_vector = torch.randn(output_size)\n",
    "weights = torch.randn(input_size, output_size)\n",
    "delta_weights = learning_rate *torch.outer(input_vector, output_vector) \n",
    "weights += delta_weights\n",
    "\n",
    "print(\"updated Wights:\",weights)\n",
    "\n"
   ]
  },
  {
   "cell_type": "markdown",
   "id": "35f83aa0",
   "metadata": {},
   "source": []
  }
 ],
 "metadata": {
  "kernelspec": {
   "display_name": "pytorch",
   "language": "python",
   "name": "python3"
  },
  "language_info": {
   "codemirror_mode": {
    "name": "ipython",
    "version": 3
   },
   "file_extension": ".py",
   "mimetype": "text/x-python",
   "name": "python",
   "nbconvert_exporter": "python",
   "pygments_lexer": "ipython3",
   "version": "3.9.23"
  }
 },
 "nbformat": 4,
 "nbformat_minor": 5
}
