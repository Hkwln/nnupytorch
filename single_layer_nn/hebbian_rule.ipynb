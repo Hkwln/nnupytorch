{
 "cells": [
  {
   "cell_type": "markdown",
   "id": "f03c1d30",
   "metadata": {},
   "source": [
    "# hebbian rule:\n",
    "updates weight according to theuir input and output activations"
   ]
  },
  {
   "cell_type": "code",
   "execution_count": 2,
   "id": "aaadebfd",
   "metadata": {},
   "outputs": [
    {
     "name": "stdout",
     "output_type": "stream",
     "text": [
      "updated Wights: tensor([[-0.3463,  0.3450,  0.0815],\n",
      "        [ 1.1115,  0.9327, -0.8423],\n",
      "        [ 1.1042,  1.0042,  0.2501]])\n"
     ]
    }
   ],
   "source": [
    "import torch\n",
    "\n",
    "input_size = 3\n",
    "output_size = 3\n",
    "learning_rate = 0.01\n",
    "input_vector = torch.randn(input_size)\n",
    "output_vector = torch.randn(output_size)\n",
    "weights = torch.randn(input_size, output_size)\n",
    "delta_weights = learning_rate *torch.outer(input_vector, output_vector) \n",
    "weights += delta_weights\n",
    "\n",
    "print(\"updated Wights:\",weights)\n",
    "\n"
   ]
  }
 ],
 "metadata": {
  "kernelspec": {
   "display_name": "newtorch",
   "language": "python",
   "name": "python3"
  },
  "language_info": {
   "codemirror_mode": {
    "name": "ipython",
    "version": 3
   },
   "file_extension": ".py",
   "mimetype": "text/x-python",
   "name": "python",
   "nbconvert_exporter": "python",
   "pygments_lexer": "ipython3",
   "version": "3.12.11"
  }
 },
 "nbformat": 4,
 "nbformat_minor": 5
}
