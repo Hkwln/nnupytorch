{
 "cells": [
  {
   "cell_type": "markdown",
   "id": "1f7ce722",
   "metadata": {},
   "source": [
    "Perceptron Rule:\n",
    "here the only difference is that the threshhold if needed does also learn just like the weights.\n",
    "also this is superwised learning so the label should also be considered by the perceptron rule"
   ]
  },
  {
   "cell_type": "code",
   "execution_count": null,
   "id": "e181342d",
   "metadata": {},
   "outputs": [
    {
     "name": "stdout",
     "output_type": "stream",
     "text": [
      "tensor([[-0.2833,  0.3122],\n",
      "        [-0.2698,  0.3208]])\n",
      "tensor([0.0181, 0.0115])\n"
     ]
    }
   ],
   "source": [
    "import torch\n",
    "\n",
    "# here i just define some random things without real context\n",
    "output_size = 2\n",
    "input_size = 3\n",
    "\n",
    "input_vector = torch.randn(output_size)\n",
    "output_vector = torch.randn(output_size)\n",
    "label_vector = torch.randn(output_size)\n",
    "learning_rate = 0.01\n",
    "weights = torch.randn(output_size)\n",
    "threshold_old = 0\n",
    "# here is the formular: weights_new = weights_old + learning_rate * (label - predicted_output) * input\n",
    "updated_weights = weights + learning_rate* torch.outer(input_vector, (label_vector - output_vector))\n",
    "#threshold_new = threshold_old - learning_rate * (label - predicted_output)\n",
    "threshold_new = threshold_old -learning_rate * (label_vector -output_vector)\n",
    "print(updated_weights)\n",
    "print( threshold_new)\n"
   ]
  }
 ],
 "metadata": {
  "kernelspec": {
   "display_name": "pytorch",
   "language": "python",
   "name": "python3"
  },
  "language_info": {
   "codemirror_mode": {
    "name": "ipython",
    "version": 3
   },
   "file_extension": ".py",
   "mimetype": "text/x-python",
   "name": "python",
   "nbconvert_exporter": "python",
   "pygments_lexer": "ipython3",
   "version": "3.9.23"
  }
 },
 "nbformat": 4,
 "nbformat_minor": 5
}
